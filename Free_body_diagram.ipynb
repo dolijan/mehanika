{
 "cells": [
  {
   "cell_type": "markdown",
   "id": "4504a880-c13a-4c39-9e5b-5a9e7cc0608d",
   "metadata": {},
   "source": [
    "![falling](falling.jpg)"
   ]
  },
  {
   "cell_type": "markdown",
   "id": "eefcba51-4b31-41c3-9b1a-e79f5e9c3139",
   "metadata": {},
   "source": [
    "![taut_string](taut_string.jpg)"
   ]
  }
 ],
 "metadata": {
  "kernelspec": {
   "display_name": "Python (myenv)",
   "language": "python",
   "name": "myenv"
  },
  "language_info": {
   "codemirror_mode": {
    "name": "ipython",
    "version": 3
   },
   "file_extension": ".py",
   "mimetype": "text/x-python",
   "name": "python",
   "nbconvert_exporter": "python",
   "pygments_lexer": "ipython3",
   "version": "3.12.3"
  }
 },
 "nbformat": 4,
 "nbformat_minor": 5
}
