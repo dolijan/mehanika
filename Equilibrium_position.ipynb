{
 "cells": [
  {
   "cell_type": "markdown",
   "id": "54ccf606-14b9-4ad1-8da7-ba99ef03aaf3",
   "metadata": {},
   "source": [
    "![taut](taut_string.jpg)"
   ]
  },
  {
   "cell_type": "markdown",
   "id": "302eba8b-1675-4e65-a1ed-c1592457c704",
   "metadata": {},
   "source": [
    "![eq](equilibrium_equtaions.png)"
   ]
  },
  {
   "cell_type": "code",
   "execution_count": null,
   "id": "2ce10cb5-6819-4e94-9a05-aee2bc8c3b1f",
   "metadata": {},
   "outputs": [],
   "source": []
  }
 ],
 "metadata": {
  "kernelspec": {
   "display_name": "Python (myenv)",
   "language": "python",
   "name": "myenv"
  },
  "language_info": {
   "codemirror_mode": {
    "name": "ipython",
    "version": 3
   },
   "file_extension": ".py",
   "mimetype": "text/x-python",
   "name": "python",
   "nbconvert_exporter": "python",
   "pygments_lexer": "ipython3",
   "version": "3.12.3"
  }
 },
 "nbformat": 4,
 "nbformat_minor": 5
}
